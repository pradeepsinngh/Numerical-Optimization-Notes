{
 "cells": [
  {
   "cell_type": "code",
   "execution_count": 1,
   "metadata": {
    "collapsed": true
   },
   "outputs": [],
   "source": [
    "import numpy as np\n",
    "import matplotlib.pyplot as plt"
   ]
  },
  {
   "cell_type": "code",
   "execution_count": 2,
   "metadata": {
    "collapsed": true
   },
   "outputs": [],
   "source": [
    "seg = (np.sqrt(5)-1)/2"
   ]
  },
  {
   "cell_type": "code",
   "execution_count": 3,
   "metadata": {
    "collapsed": true
   },
   "outputs": [],
   "source": [
    "def golden(f, lower, upper, merror):\n",
    "    error = 1000\n",
    "    vals = []\n",
    "    vals.append((lower+upper)/2)\n",
    "    objectf = []\n",
    "    objectf.append(f((lower+upper)/2))\n",
    "    # you can customize your own condition of convergence, here we limit the error term\n",
    "    while error >= merror:\n",
    "        temp1 = upper-seg*(upper-lower)\n",
    "        temp2 = lower+seg*(upper-lower)\n",
    "        if f(temp1)-f(temp2)>0:\n",
    "            upper = temp2\n",
    "        else:\n",
    "            lower = temp1\n",
    "        error = np.abs(f(temp1)-f(temp2))\n",
    "        vals.append((lower+upper)/2)\n",
    "        objectf.append(f((lower+upper)/2))\n",
    "    return (temp2+temp1)/2, f((temp2+temp1)/2), vals, objectf"
   ]
  },
  {
   "cell_type": "code",
   "execution_count": 4,
   "metadata": {
    "collapsed": true
   },
   "outputs": [],
   "source": [
    "# an example\n",
    "obj = lambda x: np.power(x, 4)-5*np.power(x, 3)-2*np.power(x, 2)+24*x\n",
    "(ub, lb) = (3, 0)"
   ]
  },
  {
   "cell_type": "code",
   "execution_count": 7,
   "metadata": {},
   "outputs": [
    {
     "name": "stdout",
     "output_type": "stream",
     "text": [
      "The value and maximal is 1.3966744387541008, 19.80155548434564\n"
     ]
    }
   ],
   "source": [
    "val, maxima, xs, ys = golden(obj, lb, ub, 0.003)\n",
    "\n",
    "print(\"The value and maximal is \"+str(val)+\", \"+str(maxima))\n",
    "plt.plot(xs,ys,'ro')\n",
    "plt.title('Golden section method')\n",
    "plt.savefig('../res/gsr.jpg')"
   ]
  },
  {
   "cell_type": "code",
   "execution_count": null,
   "metadata": {
    "collapsed": true
   },
   "outputs": [],
   "source": []
  }
 ],
 "metadata": {
  "kernelspec": {
   "display_name": "Python 3",
   "language": "python",
   "name": "python3"
  },
  "language_info": {
   "codemirror_mode": {
    "name": "ipython",
    "version": 3
   },
   "file_extension": ".py",
   "mimetype": "text/x-python",
   "name": "python",
   "nbconvert_exporter": "python",
   "pygments_lexer": "ipython3",
   "version": "3.6.3"
  }
 },
 "nbformat": 4,
 "nbformat_minor": 2
}
