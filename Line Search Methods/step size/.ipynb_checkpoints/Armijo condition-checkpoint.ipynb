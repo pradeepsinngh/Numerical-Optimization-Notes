{
 "cells": [
  {
   "cell_type": "code",
   "execution_count": 1,
   "metadata": {
    "collapsed": true
   },
   "outputs": [],
   "source": [
    "import random\n",
    "import numpy as np\n",
    "import matplotlib.pyplot as plt\n",
    "from mpl_toolkits.mplot3d import Axes3D\n",
    "from matplotlib import cm\n"
   ]
  },
  {
   "cell_type": "code",
   "execution_count": 2,
   "metadata": {
    "collapsed": true
   },
   "outputs": [],
   "source": [
    "# the objective function\n",
    "def func(x):\n",
    "    return 100*np.square(np.square(x[0])-x[1])+np.square(x[0]-1)"
   ]
  },
  {
   "cell_type": "code",
   "execution_count": 3,
   "metadata": {
    "collapsed": true
   },
   "outputs": [],
   "source": [
    "# first order derivatives of the function\n",
    "def dfunc(x):\n",
    "    df1 = 400*x[0]*(np.square(x[0])-x[1])+2*(x[0]-1)\n",
    "    df2 = -200*(np.square(x[0])-x[1])\n",
    "    return np.array([df1, df2])\n"
   ]
  },
  {
   "cell_type": "code",
   "execution_count": 4,
   "metadata": {
    "collapsed": true
   },
   "outputs": [],
   "source": [
    "# the armijo algorithm\n",
    "def armijo(valf, grad, niters):\n",
    "    #beta = random.random()\n",
    "    #sigma = random.uniform(0, .5)\n",
    "    beta = 0.25\n",
    "    sigma = 0.25\n",
    "    (miter, iter_conv) = (0, 0)\n",
    "    conval = [0,0]\n",
    "    val = []\n",
    "    objectf = []\n",
    "    val.append(valf)\n",
    "    objectf.append(func(valf))\n",
    "    while miter <= niters:\n",
    "        leftf = func(valf+np.power(beta, miter)*grad)\n",
    "        rightf = func(valf) + sigma*np.power(beta, miter)*dfunc(valf).dot(grad)\n",
    "        if leftf-rightf <= 0:\n",
    "            iter_conv = miter\n",
    "            conval = valf+np.power(beta, iter_conv)*grad\n",
    "            break\n",
    "        miter += 1\n",
    "        val.append(conval)\n",
    "        objectf.append(func(conval))\n",
    "    return conval, func(conval), iter_conv, val, objectf"
   ]
  },
  {
   "cell_type": "code",
   "execution_count": 5,
   "metadata": {
    "collapsed": true
   },
   "outputs": [],
   "source": [
    "# initialization\n",
    "start = np.array([-.3, .1])\n",
    "direction = np.array([1, -2])\n",
    "maximum_iterations = 30"
   ]
  },
  {
   "cell_type": "code",
   "execution_count": 7,
   "metadata": {},
   "outputs": [
    {
     "name": "stdout",
     "output_type": "stream",
     "text": [
      "The value, minimal and number of iterations are [-0.284375  0.06875 ], 1.6643064975738526, 3\n"
     ]
    }
   ],
   "source": [
    "converge_value, minimal, no_iter, val, objf = armijo(start, direction, maximum_iterations)\n",
    "print(\"The value, minimal and number of iterations are \" + str(converge_value) + \\\n",
    "    \", \" + str(minimal) + \", \" + str(no_iter))\n",
    "x = np.array([i[0] for i in val])\n",
    "y = np.array([i[1] for i in val])\n",
    "z = np.array(objf)\n",
    "fig = plt.figure()\n",
    "ax = fig.gca(projection='3d')\n",
    "ax.scatter(x, y, z, label='Armijo Rule')\n",
    "ax.legend()\n",
    "plt.savefig('../res/armijo.jpg')"
   ]
  },
  {
   "cell_type": "code",
   "execution_count": null,
   "metadata": {
    "collapsed": true
   },
   "outputs": [],
   "source": []
  }
 ],
 "metadata": {
  "kernelspec": {
   "display_name": "Python 3",
   "language": "python",
   "name": "python3"
  },
  "language_info": {
   "codemirror_mode": {
    "name": "ipython",
    "version": 3
   },
   "file_extension": ".py",
   "mimetype": "text/x-python",
   "name": "python",
   "nbconvert_exporter": "python",
   "pygments_lexer": "ipython3",
   "version": "3.6.3"
  }
 },
 "nbformat": 4,
 "nbformat_minor": 2
}
