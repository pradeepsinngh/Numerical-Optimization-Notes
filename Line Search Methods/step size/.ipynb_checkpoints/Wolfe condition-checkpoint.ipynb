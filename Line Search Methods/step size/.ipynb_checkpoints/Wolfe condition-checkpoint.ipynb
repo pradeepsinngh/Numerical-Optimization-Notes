{
 "cells": [
  {
   "cell_type": "code",
   "execution_count": 1,
   "metadata": {
    "collapsed": true
   },
   "outputs": [],
   "source": [
    "import random\n",
    "import numpy as np\n",
    "import matplotlib.pyplot as plt\n",
    "from mpl_toolkits.mplot3d import Axes3D\n",
    "from matplotlib import cm\n"
   ]
  },
  {
   "cell_type": "code",
   "execution_count": 2,
   "metadata": {
    "collapsed": true
   },
   "outputs": [],
   "source": [
    "# bisection search of wolfe condition\n",
    "def func(x):\n",
    "    return 100*np.square(np.square(x[0])-x[1]) + np.square(x[0]-1)\n"
   ]
  },
  {
   "cell_type": "code",
   "execution_count": 3,
   "metadata": {
    "collapsed": true
   },
   "outputs": [],
   "source": [
    "def dfunc(x):\n",
    "    df1 = 400*x[0]*(np.square(x[0])-x[1])+2*(x[0]-1)\n",
    "    df2 = -200*(np.square(x[0])-x[1])\n",
    "    return np.array([df1, df2])"
   ]
  },
  {
   "cell_type": "code",
   "execution_count": 4,
   "metadata": {
    "collapsed": true
   },
   "outputs": [],
   "source": [
    "def wolfe(valf, direction, max_iter):\n",
    "    (alpha, beta, step, c1, c2) = (0, 1000, 5.0, 0.15, 0.3)\n",
    "    i = 0\n",
    "    stop_iter = 0\n",
    "    stop_val = valf\n",
    "    minima = 0\n",
    "    val = []\n",
    "    objectf = []\n",
    "    val.append(valf)\n",
    "    objectf.append(func(valf))\n",
    "    while i <= max_iter:\n",
    "        # first confition\n",
    "        leftf = func(valf + step*direction)\n",
    "        rightf = func(valf) + step* c1*dfunc(valf).dot(direction)\n",
    "        if leftf > rightf:\n",
    "            beta = step\n",
    "            step = .5*(alpha + beta)\n",
    "            val.append(valf+step*direction)\n",
    "            objectf.append(leftf)\n",
    "        elif dfunc(valf + step*direction).dot(direction) < c2*dfunc(valf).dot(direction):\n",
    "            alpha = step\n",
    "            if beta > 100:\n",
    "                step = 2*alpha\n",
    "            else:\n",
    "                step = .5*(alpha + beta)\n",
    "            val.append(valf+step*direction)\n",
    "            objectf.append(leftf)\n",
    "        else:\n",
    "            val.append(valf+step*direction)\n",
    "            objectf.append(leftf)\n",
    "            break\n",
    "        i += 1\n",
    "        stop_val = valf + step*direction\n",
    "        stop_iter = i\n",
    "        minima = func(stop_val)\n",
    "    print(val, objectf)\n",
    "    return stop_val, minima, stop_iter, step, val, objectf\n"
   ]
  },
  {
   "cell_type": "code",
   "execution_count": 5,
   "metadata": {},
   "outputs": [
    {
     "name": "stdout",
     "output_type": "stream",
     "text": [
      "[array([0.6, 0.5]), array([-0.15, -0.5 ]), array([0.225, 0.   ]), array([0.225, 0.   ])] [2.12, 537.22, 28.623124999999995, 0.8569140625]\n",
      "The value, minimal and iterations needed are [0.225 0.   ], 0.8569140625, 2, 1.25\n"
     ]
    }
   ],
   "source": [
    "start = np.array([.6, .5])\n",
    "dirn = np.array([-.3, -.4])\n",
    "converge_value, minimal, no_iter, size, val, objectf = wolfe(start, dirn, 30)\n",
    "print(\"The value, minimal and iterations needed are \" + str(converge_value) + \", \" \\\n",
    "+ str(minimal) + \", \" + str(no_iter) + ', ' + str(size))\n",
    "x = np.array([i[0] for i in val])\n",
    "y = np.array([i[1] for i in val])\n",
    "z = np.array(objectf)\n",
    "fig = plt.figure()\n",
    "ax = fig.gca(projection='3d')\n",
    "ax.scatter(x, y, z, label='Wolfe Rule')\n",
    "ax.legend()\n",
    "plt.savefig('../res/wolfe.jpg')\n"
   ]
  },
  {
   "cell_type": "code",
   "execution_count": null,
   "metadata": {
    "collapsed": true
   },
   "outputs": [],
   "source": []
  }
 ],
 "metadata": {
  "kernelspec": {
   "display_name": "Python 3",
   "language": "python",
   "name": "python3"
  },
  "language_info": {
   "codemirror_mode": {
    "name": "ipython",
    "version": 3
   },
   "file_extension": ".py",
   "mimetype": "text/x-python",
   "name": "python",
   "nbconvert_exporter": "python",
   "pygments_lexer": "ipython3",
   "version": "3.6.3"
  }
 },
 "nbformat": 4,
 "nbformat_minor": 2
}
