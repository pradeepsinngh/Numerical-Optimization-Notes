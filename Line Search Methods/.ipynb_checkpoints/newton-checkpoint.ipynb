{
 "cells": [
  {
   "cell_type": "code",
   "execution_count": 1,
   "metadata": {
    "collapsed": true
   },
   "outputs": [],
   "source": [
    "import numpy as np\n",
    "import matplotlib.pyplot as plt\n",
    "from matplotlib import cm\n",
    "from mpl_toolkits.mplot3d import Axes3D"
   ]
  },
  {
   "cell_type": "code",
   "execution_count": 2,
   "metadata": {
    "collapsed": true
   },
   "outputs": [],
   "source": [
    "def func(x):\n",
    "    return 100*np.square(np.square(x[0])-x[1])+np.square(x[0]-1)"
   ]
  },
  {
   "cell_type": "code",
   "execution_count": 3,
   "metadata": {
    "collapsed": true
   },
   "outputs": [],
   "source": [
    "# first order derivatives of the function\n",
    "def dfunc(x):\n",
    "    df1 = 400*x[0]*(np.square(x[0])-x[1])+2*(x[0]-1)\n",
    "    df2 = -200*(np.square(x[0])-x[1])\n",
    "    return np.array([df1, df2])"
   ]
  },
  {
   "cell_type": "code",
   "execution_count": 4,
   "metadata": {
    "collapsed": true
   },
   "outputs": [],
   "source": [
    "from numpy.linalg import inv\n",
    "\n",
    "def invhess(x):\n",
    "    df11 = 1200*np.square(x[0])-400*x[1]+2\n",
    "    df12 = -400*x[0]\n",
    "    df21 = -400*x[0]\n",
    "    df22 = 200\n",
    "    hess = np.array([[df11, df12], [df21, df22]])\n",
    "    return inv(hess)"
   ]
  },
  {
   "cell_type": "code",
   "execution_count": 5,
   "metadata": {
    "collapsed": true
   },
   "outputs": [],
   "source": [
    "def newton(x, max_int):\n",
    "    miter = 1\n",
    "    step = .5\n",
    "    vals = []\n",
    "    objectfs = []\n",
    "    # you can customize your own condition of convergence, here we limit the number of iterations\n",
    "    while miter <= max_int:\n",
    "        vals.append(x)\n",
    "        objectfs.append(func(x))\n",
    "        temp = x-step*(invhess(x).dot(dfunc(x)))\n",
    "        if np.abs(func(temp)-func(x))>0.01:\n",
    "            x = temp\n",
    "        else:\n",
    "            break\n",
    "        print(x, func(x), miter)\n",
    "        miter += 1\n",
    "    return vals, objectfs, miter"
   ]
  },
  {
   "cell_type": "code",
   "execution_count": 6,
   "metadata": {},
   "outputs": [
    {
     "name": "stdout",
     "output_type": "stream",
     "text": [
      "[ 4.99950012 14.99500125] 10015.996500999732 1\n",
      "[ 4.99850075 19.98500862] 2515.989131933627 2\n",
      "[ 4.9965035  22.46504264] 640.9743156346779 3\n",
      "[ 4.99251498 23.67518762] 172.19472181001265 4\n",
      "[ 4.98456188 24.22078475] 54.94827682735781 5\n",
      "[ 4.96875194 24.37570969] 25.53450800553396 6\n",
      "[ 4.93753006 24.22183522] 17.98060757786005 7\n",
      "[ 4.87690338 23.70182702] 15.708688997277807 8\n",
      "[ 4.7659566  22.66085333] 14.468535895722795 9\n",
      "[ 4.60498788 21.153258  ] 13.273196783901865 10\n",
      "[ 4.44867175 19.7399179 ] 12.151019317490906 11\n",
      "[ 4.29405728 18.38964106] 11.093732736283494 12\n",
      "[ 4.14236045 17.11149476] 10.101532481072528 13\n",
      "[ 3.99316572 15.89928575] 9.171439844130587 14\n",
      "[ 3.84669105 14.7525338 ] 8.301658919062671 15\n",
      "[ 3.70291355 13.6686477 ] 7.489963487430303 16\n",
      "[ 3.56190493 12.64582277] 6.734289227351614 17\n",
      "[ 3.42370436 11.6819802 ] 6.032519109543545 18\n",
      "[ 3.28836654 10.77515251] 5.382560838831777 19\n",
      "[3.1559441  9.92334647] 4.782319830836407 20\n",
      "[3.02649439 9.12459271] 4.229709167267712 21\n",
      "[2.90007737 8.37692968] 3.722646706841441 22\n",
      "[2.77675676 7.67841059] 3.2590566815234827 23\n",
      "[2.65660008 7.02710263] 2.8368698503034864 24\n",
      "[2.53967916 6.42108902] 2.454024223931282 25\n",
      "[2.42607046 5.85847036] 2.1084657085379 26\n",
      "[2.31585568 5.33736646] 1.798148900213068 27\n",
      "[2.20912221 4.85591835] 1.5210379805225311 28\n",
      "[2.10596382 4.41229066] 1.2751077585294373 29\n",
      "[2.00648136 4.00467423] 1.0583448828563191 30\n",
      "[1.91078358 3.63128922] 0.8687492640582907 31\n",
      "[1.81898804 3.29038872] 0.7043357559087161 32\n",
      "[1.73122212 2.9802628 ] 0.5631361595274874 33\n",
      "[1.64762421 2.69924331] 0.4432016339260202 34\n",
      "[1.56834489 2.44570936] 0.3426056238675257 35\n",
      "[1.4935482  2.21809352] 0.25944745379287315 36\n",
      "[1.42341286 2.01488885] 0.19185678962341982 37\n",
      "[1.3581331  1.83465641] 0.1379992450651215 38\n",
      "[1.29791881 1.67603292] 0.09608351458913077 39\n",
      "[1.24299405 1.53773732] 0.06437056260652937 40\n",
      "[1.19359251 1.41857412] 0.041185597168423606 41\n",
      "[1.14994716 1.31742909] 0.024933802008029384 42\n",
      "[1.1122697 1.2332496] 0.014121033914283475 43\n"
     ]
    }
   ],
   "source": [
    "start = [5, 5]\n",
    "val, objectf, iters = newton(start, 50)\n",
    "\n",
    "x = np.array([i[0] for i in val])\n",
    "y = np.array([i[1] for i in val])\n",
    "z = np.array(objectf)\n",
    "fig = plt.figure()\n",
    "ax = fig.gca(projection='3d')\n",
    "ax.scatter(x, y, z, label='newton method')\n",
    "plt.savefig('./res/newton.jpg')"
   ]
  },
  {
   "cell_type": "code",
   "execution_count": null,
   "metadata": {
    "collapsed": true
   },
   "outputs": [],
   "source": []
  }
 ],
 "metadata": {
  "kernelspec": {
   "display_name": "Python 3",
   "language": "python",
   "name": "python3"
  },
  "language_info": {
   "codemirror_mode": {
    "name": "ipython",
    "version": 3
   },
   "file_extension": ".py",
   "mimetype": "text/x-python",
   "name": "python",
   "nbconvert_exporter": "python",
   "pygments_lexer": "ipython3",
   "version": "3.6.3"
  }
 },
 "nbformat": 4,
 "nbformat_minor": 2
}
